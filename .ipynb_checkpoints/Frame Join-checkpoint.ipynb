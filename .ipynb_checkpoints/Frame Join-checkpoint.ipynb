{
 "cells": [
  {
   "cell_type": "code",
   "execution_count": 1,
   "metadata": {},
   "outputs": [],
   "source": [
    "import cv2\n",
    "import numpy as np\n",
    "import glob\n",
    "import pandas as pd"
   ]
  },
  {
   "cell_type": "code",
   "execution_count": 2,
   "metadata": {},
   "outputs": [],
   "source": [
    "def combine(path, ct):\n",
    "\n",
    "    #frame_array = []\n",
    "    file = []\n",
    "    fileNo = []\n",
    "\n",
    "    for filename in glob.glob(path + '*.png'):\n",
    "        file.append(filename)\n",
    "        \n",
    "    for i in range(len(file)):\n",
    "        t = file[i][19:-4]\n",
    "        fileNo.append(int(t))\n",
    "        \n",
    "    df = pd.DataFrame({'FileName' : file, 'FileNo' : fileNo})\n",
    "    df = df.sort_values(['FileNo'])\n",
    "    df = df.drop('FileNo', axis=1)\n",
    "        \n",
    "    for i in range(len(df)):\n",
    "        img = cv2.imread(filename)\n",
    "        height, width, layers = img.shape\n",
    "        size = (width,height)\n",
    "        frame_array.append(img)\n",
    "        \n",
    "    print(df)\n",
    "        \n",
    "    #out = cv2.VideoWriter('Output/video'+ str(ct) + '.avi',cv2.VideoWriter_fourcc(*'DIVX'), 15, size)\n",
    "    \n",
    "    '''for i in range(len(frame_array)):\n",
    "        out.write(frame_array[i])\n",
    "    out.release()'''"
   ]
  },
  {
   "cell_type": "code",
   "execution_count": 3,
   "metadata": {},
   "outputs": [],
   "source": [
    "path = 'Output/'"
   ]
  },
  {
   "cell_type": "code",
   "execution_count": 4,
   "metadata": {
    "scrolled": true
   },
   "outputs": [
    {
     "name": "stdout",
     "output_type": "stream",
     "text": [
      "                       FileName\n",
      "165    Output/video1/frame0.png\n",
      "107    Output/video1/frame1.png\n",
      "585    Output/video1/frame2.png\n",
      "200    Output/video1/frame3.png\n",
      "358    Output/video1/frame4.png\n",
      "503    Output/video1/frame5.png\n",
      "59     Output/video1/frame6.png\n",
      "139    Output/video1/frame7.png\n",
      "715    Output/video1/frame8.png\n",
      "726    Output/video1/frame9.png\n",
      "712   Output/video1/frame10.png\n",
      "399   Output/video1/frame11.png\n",
      "236   Output/video1/frame12.png\n",
      "459   Output/video1/frame13.png\n",
      "275   Output/video1/frame14.png\n",
      "624   Output/video1/frame15.png\n",
      "649   Output/video1/frame16.png\n",
      "349   Output/video1/frame17.png\n",
      "195   Output/video1/frame18.png\n",
      "147   Output/video1/frame19.png\n",
      "690   Output/video1/frame20.png\n",
      "553   Output/video1/frame21.png\n",
      "448   Output/video1/frame22.png\n",
      "280   Output/video1/frame23.png\n",
      "166   Output/video1/frame24.png\n",
      "390   Output/video1/frame25.png\n",
      "128   Output/video1/frame26.png\n",
      "533   Output/video1/frame27.png\n",
      "696   Output/video1/frame28.png\n",
      "28    Output/video1/frame29.png\n",
      "..                          ...\n",
      "178  Output/video1/frame704.png\n",
      "359  Output/video1/frame705.png\n",
      "564  Output/video1/frame706.png\n",
      "502  Output/video1/frame707.png\n",
      "589  Output/video1/frame708.png\n",
      "420  Output/video1/frame709.png\n",
      "464  Output/video1/frame710.png\n",
      "598  Output/video1/frame711.png\n",
      "707  Output/video1/frame712.png\n",
      "700  Output/video1/frame713.png\n",
      "721  Output/video1/frame714.png\n",
      "590  Output/video1/frame715.png\n",
      "728  Output/video1/frame716.png\n",
      "664  Output/video1/frame717.png\n",
      "136  Output/video1/frame718.png\n",
      "404  Output/video1/frame719.png\n",
      "60   Output/video1/frame720.png\n",
      "89   Output/video1/frame721.png\n",
      "41   Output/video1/frame722.png\n",
      "88   Output/video1/frame723.png\n",
      "157  Output/video1/frame724.png\n",
      "697  Output/video1/frame725.png\n",
      "276  Output/video1/frame726.png\n",
      "153  Output/video1/frame727.png\n",
      "114  Output/video1/frame728.png\n",
      "708  Output/video1/frame729.png\n",
      "39   Output/video1/frame730.png\n",
      "524  Output/video1/frame731.png\n",
      "324  Output/video1/frame732.png\n",
      "50   Output/video1/frame733.png\n",
      "\n",
      "[734 rows x 1 columns]\n"
     ]
    }
   ],
   "source": [
    "combine(path+'video1/', 1)"
   ]
  },
  {
   "cell_type": "code",
   "execution_count": null,
   "metadata": {},
   "outputs": [],
   "source": []
  }
 ],
 "metadata": {
  "kernelspec": {
   "display_name": "Python 3",
   "language": "python",
   "name": "python3"
  },
  "language_info": {
   "codemirror_mode": {
    "name": "ipython",
    "version": 3
   },
   "file_extension": ".py",
   "mimetype": "text/x-python",
   "name": "python",
   "nbconvert_exporter": "python",
   "pygments_lexer": "ipython3",
   "version": "3.7.3"
  }
 },
 "nbformat": 4,
 "nbformat_minor": 2
}
