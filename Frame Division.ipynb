{
 "cells": [
  {
   "cell_type": "code",
   "execution_count": 1,
   "metadata": {},
   "outputs": [],
   "source": [
    "import os\n",
    "import cv2\n",
    "import matplotlib.pyplot as plt\n",
    "%matplotlib inline"
   ]
  },
  {
   "cell_type": "code",
   "execution_count": null,
   "metadata": {},
   "outputs": [],
   "source": [
    "for i in range(1, 3):\n",
    "    cap = cv2.VideoCapture('/home/aman/Documents/ML/Intern/IISC/Input/video' + str(i) + '.mp4')\n",
    "    success, image = cap.read()\n",
    "    \n",
    "    try:\n",
    "        if not os.path.exists('/home/aman/Documents/ML/Intern/IISC/Input/video' + str(i)):\n",
    "            os.makedirs('/home/aman/Documents/ML/Intern/IISC/Input/video' + str(i))\n",
    "            \n",
    "    except OSError: \n",
    "        print ('Error: Creating directory of data')\n",
    "        \n",
    "    currentframe = 0\n",
    "    while success:       \n",
    "        success, frame = cap.read() \n",
    "        \n",
    "        name = '/home/aman/Documents/ML/Intern/IISC/Input/video'+ str(i) + '/frame' + str(currentframe) + '.png'\n",
    "        \n",
    "        cv2.imwrite(name, frame) \n",
    "        if cv2.waitKey(10) == 27:\n",
    "            break\n",
    "        \n",
    "        currentframe += 1"
   ]
  }
 ],
 "metadata": {
  "kernelspec": {
   "display_name": "Python 3",
   "language": "python",
   "name": "python3"
  },
  "language_info": {
   "codemirror_mode": {
    "name": "ipython",
    "version": 3
   },
   "file_extension": ".py",
   "mimetype": "text/x-python",
   "name": "python",
   "nbconvert_exporter": "python",
   "pygments_lexer": "ipython3",
   "version": "3.7.3"
  }
 },
 "nbformat": 4,
 "nbformat_minor": 2
}
