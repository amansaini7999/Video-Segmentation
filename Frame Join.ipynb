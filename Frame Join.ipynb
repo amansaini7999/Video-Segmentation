{
 "cells": [
  {
   "cell_type": "code",
   "execution_count": 1,
   "metadata": {},
   "outputs": [],
   "source": [
    "import cv2\n",
    "import glob\n",
    "import pandas as pd"
   ]
  },
  {
   "cell_type": "code",
   "execution_count": 2,
   "metadata": {},
   "outputs": [],
   "source": [
    "def combine(path, ct):\n",
    "\n",
    "    frame_array = []\n",
    "    file = []\n",
    "    fileNo = []\n",
    "\n",
    "    for filename in glob.glob(path + '*.png'):\n",
    "        file.append(filename)\n",
    "        \n",
    "    for i in range(len(file)):\n",
    "        t = file[i][19:-4]\n",
    "        fileNo.append(int(t))\n",
    "        \n",
    "    df = pd.DataFrame({'FileName' : file, 'FileNo' : fileNo})\n",
    "    df.set_index('FileNo', inplace=True)\n",
    "    df = df.sort_values(['FileNo'])\n",
    "        \n",
    "    for i in range(len(df)):\n",
    "        img = cv2.imread(df['FileName'][i])\n",
    "        height, width, layers = img.shape\n",
    "        size = (width,height)\n",
    "        frame_array.append(img)\n",
    "    \n",
    "    out = cv2.VideoWriter('Output/video'+ str(ct) + '.avi',cv2.VideoWriter_fourcc(*'DIVX'), 30, size)\n",
    "    \n",
    "    for i in range(len(frame_array)):\n",
    "        out.write(frame_array[i])\n",
    "    out.release()"
   ]
  },
  {
   "cell_type": "code",
   "execution_count": 3,
   "metadata": {},
   "outputs": [],
   "source": [
    "path = 'Output/'"
   ]
  },
  {
   "cell_type": "code",
   "execution_count": 4,
   "metadata": {
    "scrolled": true
   },
   "outputs": [],
   "source": [
    "combine(path+'video1/', 1)"
   ]
  },
  {
   "cell_type": "code",
   "execution_count": 5,
   "metadata": {},
   "outputs": [],
   "source": [
    "combine(path+'video2/', 2)"
   ]
  }
 ],
 "metadata": {
  "kernelspec": {
   "display_name": "Python 3",
   "language": "python",
   "name": "python3"
  },
  "language_info": {
   "codemirror_mode": {
    "name": "ipython",
    "version": 3
   },
   "file_extension": ".py",
   "mimetype": "text/x-python",
   "name": "python",
   "nbconvert_exporter": "python",
   "pygments_lexer": "ipython3",
   "version": "3.7.3"
  }
 },
 "nbformat": 4,
 "nbformat_minor": 2
}
